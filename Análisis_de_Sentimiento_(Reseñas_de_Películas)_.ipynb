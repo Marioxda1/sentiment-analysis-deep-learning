{
  "nbformat": 4,
  "nbformat_minor": 0,
  "metadata": {
    "colab": {
      "provenance": [],
      "gpuType": "T4"
    },
    "kernelspec": {
      "name": "python3",
      "display_name": "Python 3"
    },
    "language_info": {
      "name": "python"
    },
    "accelerator": "GPU"
  },
  "cells": [
    {
      "cell_type": "markdown",
      "source": [
        "# Análisis de Sentimiento (Reseñas de Películas)"
      ],
      "metadata": {
        "id": "iquMm8O_Gnl3"
      }
    },
    {
      "cell_type": "markdown",
      "source": [
        "**Importar las bibliotecas**\n",
        "\n",
        "**Tensorflow y keras:** Usamos TensorFlow como marco principal para el aprendizaje profundo, y Keras (incluido en TensorFlow) nos proporciona una API sencilla para construir redes neuronales.\n",
        "\n",
        "**imdb:** Este dataset viene predefinido en TensorFlow y contiene 50,000 reseñas de películas etiquetadas como positivas (1) o negativas (0).\n",
        "\n",
        "**pad_sequences:** Herramienta para normalizar las longitudes de las reseñas (rellenando o cortando palabras) para que puedan ser procesadas por el modelo.\n",
        "\n",
        "***Sequential: ***Clase que permite construir modelos capa por capa.\n",
        "\n",
        "**Embedding, LSTM, Dense:** Componentes principales de nuestra red neuronal:\n",
        "\n",
        "**Embedding:** Convierte palabras en vectores.\n",
        "\n",
        "**LSTM:** Modelo recurrente para secuencias.\n",
        "\n",
        "**Dense:** Capa completamente conectada.\n",
        "\n",
        "**matplotlib.pyplot:** Biblioteca para visualizar datos y métricas."
      ],
      "metadata": {
        "id": "jimgfBD8EtKO"
      }
    },
    {
      "cell_type": "code",
      "source": [
        "import tensorflow as tf\n",
        "from tensorflow.keras.datasets import imdb\n",
        "from tensorflow.keras.preprocessing.sequence import pad_sequences\n",
        "from tensorflow.keras.models import Sequential\n",
        "from tensorflow.keras.layers import Embedding, LSTM, Dense\n",
        "import matplotlib.pyplot as plt\n"
      ],
      "metadata": {
        "id": "qUTDC3pJEzQ0"
      },
      "execution_count": 1,
      "outputs": []
    },
    {
      "cell_type": "markdown",
      "source": [
        "**Cargar y explorar el dataset**\n",
        "\n",
        "**num_words**: Limitamos el vocabulario a las 10,000 palabras más comunes, lo que ayuda a reducir la complejidad y tamaño del modelo.\n",
        "\n",
        "**imdb.load_data:** Cargamos los datos como dos pares: entrenamiento y prueba. Cada reseña es una lista de enteros (códigos de palabras), y cada etiqueta indica si la reseña es positiva o negativa.\n",
        "\n",
        "**Estructura del dataset:**\n",
        "X_train: Contiene las reseñas (listas de enteros).\n",
        "\n",
        "y_train: Contiene las etiquetas (1 para positiva, 0 para negativa).\n",
        "\n",
        "X_test y y_test: Se usan para evaluar el modelo.\n",
        "\n",
        "\n",
        "**Ejemplo: **   Mostramos la primera reseña codificada y su etiqueta para entender la estructura."
      ],
      "metadata": {
        "id": "XiCEqvOnHeeM"
      }
    },
    {
      "cell_type": "code",
      "source": [
        "# Cargar el dataset de IMDB\n",
        "num_words = 10000  # Usaremos las 10,000 palabras más comunes\n",
        "(X_train, y_train), (X_test, y_test) = imdb.load_data(num_words=num_words)\n",
        "\n",
        "# Mostrar un ejemplo del dataset\n",
        "print(f\"Primera reseña codificada: {X_train[0]}\")\n",
        "print(f\"Primera etiqueta (positiva=1, negativa=0): {y_train[0]}\")\n",
        "\n",
        "# Mostrar el tamaño de los datos\n",
        "print(f\"Número de ejemplos de entrenamiento: {len(X_train)}\")\n",
        "print(f\"Número de ejemplos de prueba: {len(X_test)}\")\n"
      ],
      "metadata": {
        "colab": {
          "base_uri": "https://localhost:8080/"
        },
        "id": "KDmPm70VE1lm",
        "outputId": "64a3b51c-fda1-4bca-dc68-bdfbccaa225b"
      },
      "execution_count": 2,
      "outputs": [
        {
          "output_type": "stream",
          "name": "stdout",
          "text": [
            "Downloading data from https://storage.googleapis.com/tensorflow/tf-keras-datasets/imdb.npz\n",
            "\u001b[1m17464789/17464789\u001b[0m \u001b[32m━━━━━━━━━━━━━━━━━━━━\u001b[0m\u001b[37m\u001b[0m \u001b[1m0s\u001b[0m 0us/step\n",
            "Primera reseña codificada: [1, 14, 22, 16, 43, 530, 973, 1622, 1385, 65, 458, 4468, 66, 3941, 4, 173, 36, 256, 5, 25, 100, 43, 838, 112, 50, 670, 2, 9, 35, 480, 284, 5, 150, 4, 172, 112, 167, 2, 336, 385, 39, 4, 172, 4536, 1111, 17, 546, 38, 13, 447, 4, 192, 50, 16, 6, 147, 2025, 19, 14, 22, 4, 1920, 4613, 469, 4, 22, 71, 87, 12, 16, 43, 530, 38, 76, 15, 13, 1247, 4, 22, 17, 515, 17, 12, 16, 626, 18, 2, 5, 62, 386, 12, 8, 316, 8, 106, 5, 4, 2223, 5244, 16, 480, 66, 3785, 33, 4, 130, 12, 16, 38, 619, 5, 25, 124, 51, 36, 135, 48, 25, 1415, 33, 6, 22, 12, 215, 28, 77, 52, 5, 14, 407, 16, 82, 2, 8, 4, 107, 117, 5952, 15, 256, 4, 2, 7, 3766, 5, 723, 36, 71, 43, 530, 476, 26, 400, 317, 46, 7, 4, 2, 1029, 13, 104, 88, 4, 381, 15, 297, 98, 32, 2071, 56, 26, 141, 6, 194, 7486, 18, 4, 226, 22, 21, 134, 476, 26, 480, 5, 144, 30, 5535, 18, 51, 36, 28, 224, 92, 25, 104, 4, 226, 65, 16, 38, 1334, 88, 12, 16, 283, 5, 16, 4472, 113, 103, 32, 15, 16, 5345, 19, 178, 32]\n",
            "Primera etiqueta (positiva=1, negativa=0): 1\n",
            "Número de ejemplos de entrenamiento: 25000\n",
            "Número de ejemplos de prueba: 25000\n"
          ]
        }
      ]
    },
    {
      "cell_type": "markdown",
      "source": [
        "**Preprocesamiento de datos**\n",
        "\n",
        "**max_length:** Limitamos las reseñas a 100 palabras. Esto garantiza que todas tengan la misma longitud, necesario para los modelos de deep learning.\n",
        "\n",
        "**pad_sequences:**\n",
        "\n",
        "**padding='post':** Añade ceros al final si la reseña es más corta que 100 palabras.\n",
        "\n",
        "**truncating='post':** Corta el exceso desde el final si la reseña es más larga.\n",
        "\n",
        "**Resultado:** Después del preprocesamiento, todas las reseñas tienen exactamente 100 palabras, representadas como una lista de enteros.\n"
      ],
      "metadata": {
        "id": "ooszBXVDIAD5"
      }
    },
    {
      "cell_type": "code",
      "source": [
        "# Longitud máxima de las secuencias (rellenaremos o cortaremos a esta longitud)\n",
        "max_length = 100\n",
        "\n",
        "# Rellenar las secuencias para que todas tengan la misma longitud\n",
        "X_train = pad_sequences(X_train, maxlen=max_length, padding='post', truncating='post')\n",
        "X_test = pad_sequences(X_test, maxlen=max_length, padding='post', truncating='post')\n",
        "\n",
        "print(f\"Primera reseña después del padding: {X_train[0]}\")\n"
      ],
      "metadata": {
        "colab": {
          "base_uri": "https://localhost:8080/"
        },
        "id": "tYSVbze8E95n",
        "outputId": "b48bcbcc-170f-4fc9-b081-cd6c51d13af1"
      },
      "execution_count": 3,
      "outputs": [
        {
          "output_type": "stream",
          "name": "stdout",
          "text": [
            "Primera reseña después del padding: [   1   14   22   16   43  530  973 1622 1385   65  458 4468   66 3941\n",
            "    4  173   36  256    5   25  100   43  838  112   50  670    2    9\n",
            "   35  480  284    5  150    4  172  112  167    2  336  385   39    4\n",
            "  172 4536 1111   17  546   38   13  447    4  192   50   16    6  147\n",
            " 2025   19   14   22    4 1920 4613  469    4   22   71   87   12   16\n",
            "   43  530   38   76   15   13 1247    4   22   17  515   17   12   16\n",
            "  626   18    2    5   62  386   12    8  316    8  106    5    4 2223\n",
            " 5244   16]\n"
          ]
        }
      ]
    },
    {
      "cell_type": "markdown",
      "source": [
        "**Crear el modelo**\n",
        "\n",
        "**Capa Embedding:**\n",
        "input_dim=num_words: Tamaño del vocabulario (10,000 palabras).\n",
        "\n",
        "**output_dim=32:** Cada palabra se convierte en un vector de 32 dimensiones.\n",
        "\n",
        "**input_length=max_length:** Longitud fija de las secuencias (100 palabras).\n",
        "\n",
        "**Capa LSTM:**\n",
        "\n",
        "**64:** Número de unidades de memoria. La LSTM procesa las palabras secuencialmente para capturar el contexto.\n",
        "\n",
        "**activation='relu':** Función de activación para mejorar el rendimiento.\n",
        "\n",
        "**Capa Dense:**\n",
        "\n",
        "**1: **Salida binaria.\n",
        "\n",
        "**sigmoid:** Genera un valor entre 0 y 1 para la predicción.\n",
        "\n",
        "**Compilación del modelo:**\n",
        "\n",
        "**adam:** Optimizador eficiente para deep learning.\n",
        "\n",
        "**binary_crossentropy:** Métrica de pérdida para problemas binarios.\n",
        "\n",
        "**accuracy:** Mide la precisión del modelo."
      ],
      "metadata": {
        "id": "TZUFfHuqIekj"
      }
    },
    {
      "cell_type": "code",
      "source": [
        "# Crear el modelo\n",
        "model = Sequential([\n",
        "    Embedding(input_dim=num_words, output_dim=32, input_length=max_length),  # Capa de embeddings\n",
        "    LSTM(64, activation='relu'),  # Capa LSTM para capturar patrones secuenciales\n",
        "    Dense(1, activation='sigmoid')  # Salida binaria: positiva o negativa\n",
        "])\n",
        "\n",
        "# Compilar el modelo\n",
        "model.compile(optimizer='adam', loss='binary_crossentropy', metrics=['accuracy'])\n",
        "\n",
        "# Resumen del modelo\n",
        "model.summary()\n"
      ],
      "metadata": {
        "colab": {
          "base_uri": "https://localhost:8080/",
          "height": 273
        },
        "id": "3WiI9vRoFAA4",
        "outputId": "7ad28618-1786-4a7d-dfb8-233ca083e093"
      },
      "execution_count": 4,
      "outputs": [
        {
          "output_type": "stream",
          "name": "stderr",
          "text": [
            "/usr/local/lib/python3.10/dist-packages/keras/src/layers/core/embedding.py:90: UserWarning: Argument `input_length` is deprecated. Just remove it.\n",
            "  warnings.warn(\n"
          ]
        },
        {
          "output_type": "display_data",
          "data": {
            "text/plain": [
              "\u001b[1mModel: \"sequential\"\u001b[0m\n"
            ],
            "text/html": [
              "<pre style=\"white-space:pre;overflow-x:auto;line-height:normal;font-family:Menlo,'DejaVu Sans Mono',consolas,'Courier New',monospace\"><span style=\"font-weight: bold\">Model: \"sequential\"</span>\n",
              "</pre>\n"
            ]
          },
          "metadata": {}
        },
        {
          "output_type": "display_data",
          "data": {
            "text/plain": [
              "┏━━━━━━━━━━━━━━━━━━━━━━━━━━━━━━━━━━━━━━┳━━━━━━━━━━━━━━━━━━━━━━━━━━━━━┳━━━━━━━━━━━━━━━━━┓\n",
              "┃\u001b[1m \u001b[0m\u001b[1mLayer (type)                        \u001b[0m\u001b[1m \u001b[0m┃\u001b[1m \u001b[0m\u001b[1mOutput Shape               \u001b[0m\u001b[1m \u001b[0m┃\u001b[1m \u001b[0m\u001b[1m        Param #\u001b[0m\u001b[1m \u001b[0m┃\n",
              "┡━━━━━━━━━━━━━━━━━━━━━━━━━━━━━━━━━━━━━━╇━━━━━━━━━━━━━━━━━━━━━━━━━━━━━╇━━━━━━━━━━━━━━━━━┩\n",
              "│ embedding (\u001b[38;5;33mEmbedding\u001b[0m)                │ ?                           │     \u001b[38;5;34m0\u001b[0m (unbuilt) │\n",
              "├──────────────────────────────────────┼─────────────────────────────┼─────────────────┤\n",
              "│ lstm (\u001b[38;5;33mLSTM\u001b[0m)                          │ ?                           │     \u001b[38;5;34m0\u001b[0m (unbuilt) │\n",
              "├──────────────────────────────────────┼─────────────────────────────┼─────────────────┤\n",
              "│ dense (\u001b[38;5;33mDense\u001b[0m)                        │ ?                           │     \u001b[38;5;34m0\u001b[0m (unbuilt) │\n",
              "└──────────────────────────────────────┴─────────────────────────────┴─────────────────┘\n"
            ],
            "text/html": [
              "<pre style=\"white-space:pre;overflow-x:auto;line-height:normal;font-family:Menlo,'DejaVu Sans Mono',consolas,'Courier New',monospace\">┏━━━━━━━━━━━━━━━━━━━━━━━━━━━━━━━━━━━━━━┳━━━━━━━━━━━━━━━━━━━━━━━━━━━━━┳━━━━━━━━━━━━━━━━━┓\n",
              "┃<span style=\"font-weight: bold\"> Layer (type)                         </span>┃<span style=\"font-weight: bold\"> Output Shape                </span>┃<span style=\"font-weight: bold\">         Param # </span>┃\n",
              "┡━━━━━━━━━━━━━━━━━━━━━━━━━━━━━━━━━━━━━━╇━━━━━━━━━━━━━━━━━━━━━━━━━━━━━╇━━━━━━━━━━━━━━━━━┩\n",
              "│ embedding (<span style=\"color: #0087ff; text-decoration-color: #0087ff\">Embedding</span>)                │ ?                           │     <span style=\"color: #00af00; text-decoration-color: #00af00\">0</span> (unbuilt) │\n",
              "├──────────────────────────────────────┼─────────────────────────────┼─────────────────┤\n",
              "│ lstm (<span style=\"color: #0087ff; text-decoration-color: #0087ff\">LSTM</span>)                          │ ?                           │     <span style=\"color: #00af00; text-decoration-color: #00af00\">0</span> (unbuilt) │\n",
              "├──────────────────────────────────────┼─────────────────────────────┼─────────────────┤\n",
              "│ dense (<span style=\"color: #0087ff; text-decoration-color: #0087ff\">Dense</span>)                        │ ?                           │     <span style=\"color: #00af00; text-decoration-color: #00af00\">0</span> (unbuilt) │\n",
              "└──────────────────────────────────────┴─────────────────────────────┴─────────────────┘\n",
              "</pre>\n"
            ]
          },
          "metadata": {}
        },
        {
          "output_type": "display_data",
          "data": {
            "text/plain": [
              "\u001b[1m Total params: \u001b[0m\u001b[38;5;34m0\u001b[0m (0.00 B)\n"
            ],
            "text/html": [
              "<pre style=\"white-space:pre;overflow-x:auto;line-height:normal;font-family:Menlo,'DejaVu Sans Mono',consolas,'Courier New',monospace\"><span style=\"font-weight: bold\"> Total params: </span><span style=\"color: #00af00; text-decoration-color: #00af00\">0</span> (0.00 B)\n",
              "</pre>\n"
            ]
          },
          "metadata": {}
        },
        {
          "output_type": "display_data",
          "data": {
            "text/plain": [
              "\u001b[1m Trainable params: \u001b[0m\u001b[38;5;34m0\u001b[0m (0.00 B)\n"
            ],
            "text/html": [
              "<pre style=\"white-space:pre;overflow-x:auto;line-height:normal;font-family:Menlo,'DejaVu Sans Mono',consolas,'Courier New',monospace\"><span style=\"font-weight: bold\"> Trainable params: </span><span style=\"color: #00af00; text-decoration-color: #00af00\">0</span> (0.00 B)\n",
              "</pre>\n"
            ]
          },
          "metadata": {}
        },
        {
          "output_type": "display_data",
          "data": {
            "text/plain": [
              "\u001b[1m Non-trainable params: \u001b[0m\u001b[38;5;34m0\u001b[0m (0.00 B)\n"
            ],
            "text/html": [
              "<pre style=\"white-space:pre;overflow-x:auto;line-height:normal;font-family:Menlo,'DejaVu Sans Mono',consolas,'Courier New',monospace\"><span style=\"font-weight: bold\"> Non-trainable params: </span><span style=\"color: #00af00; text-decoration-color: #00af00\">0</span> (0.00 B)\n",
              "</pre>\n"
            ]
          },
          "metadata": {}
        }
      ]
    },
    {
      "cell_type": "markdown",
      "source": [
        "**Entrenar el modelo**\n",
        "\n",
        "**epochs=5:** El modelo pasa por todos los datos de entrenamiento 5 veces.\n",
        "\n",
        "**batch_size=32:** Procesa las muestras en lotes de 32 para optimizar el uso de memoria.\n",
        "\n",
        "**validation_split=0.2:** Reserva el 20% de los datos de entrenamiento para validar el modelo.\n",
        "\n",
        "**history:** Guarda métricas de entrenamiento y validación, como precisión y pérdida, para analizarlas después.\n"
      ],
      "metadata": {
        "id": "Vv2MkJepI61Y"
      }
    },
    {
      "cell_type": "code",
      "source": [
        "# Entrenar el modelo\n",
        "history = model.fit(\n",
        "    X_train, y_train,\n",
        "    epochs=25,  # Puedes aumentar a 10 si tienes tiempo\n",
        "    batch_size=32,\n",
        "    validation_split=0.2  # Usar el 20% de los datos de entrenamiento para validación\n",
        ")\n"
      ],
      "metadata": {
        "colab": {
          "base_uri": "https://localhost:8080/"
        },
        "id": "dzmtVvNYFCkR",
        "outputId": "3d90f2bc-aec0-4a83-fd59-bd8805719d1d"
      },
      "execution_count": 9,
      "outputs": [
        {
          "output_type": "stream",
          "name": "stdout",
          "text": [
            "Epoch 1/25\n",
            "\u001b[1m625/625\u001b[0m \u001b[32m━━━━━━━━━━━━━━━━━━━━\u001b[0m\u001b[37m\u001b[0m \u001b[1m9s\u001b[0m 14ms/step - accuracy: 0.7405 - loss: 0.5596 - val_accuracy: 0.6034 - val_loss: 0.6784\n",
            "Epoch 2/25\n",
            "\u001b[1m625/625\u001b[0m \u001b[32m━━━━━━━━━━━━━━━━━━━━\u001b[0m\u001b[37m\u001b[0m \u001b[1m10s\u001b[0m 13ms/step - accuracy: 0.7417 - loss: 0.5474 - val_accuracy: 0.6056 - val_loss: 0.6867\n",
            "Epoch 3/25\n",
            "\u001b[1m625/625\u001b[0m \u001b[32m━━━━━━━━━━━━━━━━━━━━\u001b[0m\u001b[37m\u001b[0m \u001b[1m10s\u001b[0m 13ms/step - accuracy: 0.7543 - loss: 0.5324 - val_accuracy: 0.6038 - val_loss: 0.6966\n",
            "Epoch 4/25\n",
            "\u001b[1m625/625\u001b[0m \u001b[32m━━━━━━━━━━━━━━━━━━━━\u001b[0m\u001b[37m\u001b[0m \u001b[1m10s\u001b[0m 13ms/step - accuracy: 0.7344 - loss: nan - val_accuracy: 0.5062 - val_loss: nan\n",
            "Epoch 5/25\n",
            "\u001b[1m625/625\u001b[0m \u001b[32m━━━━━━━━━━━━━━━━━━━━\u001b[0m\u001b[37m\u001b[0m \u001b[1m8s\u001b[0m 13ms/step - accuracy: 0.5011 - loss: nan - val_accuracy: 0.5062 - val_loss: nan\n",
            "Epoch 6/25\n",
            "\u001b[1m625/625\u001b[0m \u001b[32m━━━━━━━━━━━━━━━━━━━━\u001b[0m\u001b[37m\u001b[0m \u001b[1m10s\u001b[0m 14ms/step - accuracy: 0.4970 - loss: nan - val_accuracy: 0.5062 - val_loss: nan\n",
            "Epoch 7/25\n",
            "\u001b[1m625/625\u001b[0m \u001b[32m━━━━━━━━━━━━━━━━━━━━\u001b[0m\u001b[37m\u001b[0m \u001b[1m10s\u001b[0m 13ms/step - accuracy: 0.4995 - loss: nan - val_accuracy: 0.5062 - val_loss: nan\n",
            "Epoch 8/25\n",
            "\u001b[1m625/625\u001b[0m \u001b[32m━━━━━━━━━━━━━━━━━━━━\u001b[0m\u001b[37m\u001b[0m \u001b[1m8s\u001b[0m 13ms/step - accuracy: 0.4969 - loss: nan - val_accuracy: 0.5062 - val_loss: nan\n",
            "Epoch 9/25\n",
            "\u001b[1m625/625\u001b[0m \u001b[32m━━━━━━━━━━━━━━━━━━━━\u001b[0m\u001b[37m\u001b[0m \u001b[1m10s\u001b[0m 14ms/step - accuracy: 0.4983 - loss: nan - val_accuracy: 0.5062 - val_loss: nan\n",
            "Epoch 10/25\n",
            "\u001b[1m625/625\u001b[0m \u001b[32m━━━━━━━━━━━━━━━━━━━━\u001b[0m\u001b[37m\u001b[0m \u001b[1m10s\u001b[0m 14ms/step - accuracy: 0.4968 - loss: nan - val_accuracy: 0.5062 - val_loss: nan\n",
            "Epoch 11/25\n",
            "\u001b[1m625/625\u001b[0m \u001b[32m━━━━━━━━━━━━━━━━━━━━\u001b[0m\u001b[37m\u001b[0m \u001b[1m8s\u001b[0m 13ms/step - accuracy: 0.4999 - loss: nan - val_accuracy: 0.5062 - val_loss: nan\n",
            "Epoch 12/25\n",
            "\u001b[1m625/625\u001b[0m \u001b[32m━━━━━━━━━━━━━━━━━━━━\u001b[0m\u001b[37m\u001b[0m \u001b[1m8s\u001b[0m 13ms/step - accuracy: 0.5055 - loss: nan - val_accuracy: 0.5062 - val_loss: nan\n",
            "Epoch 13/25\n",
            "\u001b[1m625/625\u001b[0m \u001b[32m━━━━━━━━━━━━━━━━━━━━\u001b[0m\u001b[37m\u001b[0m \u001b[1m9s\u001b[0m 14ms/step - accuracy: 0.5000 - loss: nan - val_accuracy: 0.5062 - val_loss: nan\n",
            "Epoch 14/25\n",
            "\u001b[1m625/625\u001b[0m \u001b[32m━━━━━━━━━━━━━━━━━━━━\u001b[0m\u001b[37m\u001b[0m \u001b[1m8s\u001b[0m 13ms/step - accuracy: 0.4986 - loss: nan - val_accuracy: 0.5062 - val_loss: nan\n",
            "Epoch 15/25\n",
            "\u001b[1m625/625\u001b[0m \u001b[32m━━━━━━━━━━━━━━━━━━━━\u001b[0m\u001b[37m\u001b[0m \u001b[1m10s\u001b[0m 13ms/step - accuracy: 0.4989 - loss: nan - val_accuracy: 0.5062 - val_loss: nan\n",
            "Epoch 16/25\n",
            "\u001b[1m625/625\u001b[0m \u001b[32m━━━━━━━━━━━━━━━━━━━━\u001b[0m\u001b[37m\u001b[0m \u001b[1m10s\u001b[0m 13ms/step - accuracy: 0.4977 - loss: nan - val_accuracy: 0.5062 - val_loss: nan\n",
            "Epoch 17/25\n",
            "\u001b[1m625/625\u001b[0m \u001b[32m━━━━━━━━━━━━━━━━━━━━\u001b[0m\u001b[37m\u001b[0m \u001b[1m8s\u001b[0m 14ms/step - accuracy: 0.5063 - loss: nan - val_accuracy: 0.5062 - val_loss: nan\n",
            "Epoch 18/25\n",
            "\u001b[1m625/625\u001b[0m \u001b[32m━━━━━━━━━━━━━━━━━━━━\u001b[0m\u001b[37m\u001b[0m \u001b[1m8s\u001b[0m 13ms/step - accuracy: 0.4930 - loss: nan - val_accuracy: 0.5062 - val_loss: nan\n",
            "Epoch 19/25\n",
            "\u001b[1m625/625\u001b[0m \u001b[32m━━━━━━━━━━━━━━━━━━━━\u001b[0m\u001b[37m\u001b[0m \u001b[1m8s\u001b[0m 13ms/step - accuracy: 0.4986 - loss: nan - val_accuracy: 0.5062 - val_loss: nan\n",
            "Epoch 20/25\n",
            "\u001b[1m625/625\u001b[0m \u001b[32m━━━━━━━━━━━━━━━━━━━━\u001b[0m\u001b[37m\u001b[0m \u001b[1m11s\u001b[0m 15ms/step - accuracy: 0.5013 - loss: nan - val_accuracy: 0.5062 - val_loss: nan\n",
            "Epoch 21/25\n",
            "\u001b[1m625/625\u001b[0m \u001b[32m━━━━━━━━━━━━━━━━━━━━\u001b[0m\u001b[37m\u001b[0m \u001b[1m10s\u001b[0m 14ms/step - accuracy: 0.5001 - loss: nan - val_accuracy: 0.5062 - val_loss: nan\n",
            "Epoch 22/25\n",
            "\u001b[1m625/625\u001b[0m \u001b[32m━━━━━━━━━━━━━━━━━━━━\u001b[0m\u001b[37m\u001b[0m \u001b[1m8s\u001b[0m 13ms/step - accuracy: 0.4958 - loss: nan - val_accuracy: 0.5062 - val_loss: nan\n",
            "Epoch 23/25\n",
            "\u001b[1m625/625\u001b[0m \u001b[32m━━━━━━━━━━━━━━━━━━━━\u001b[0m\u001b[37m\u001b[0m \u001b[1m10s\u001b[0m 13ms/step - accuracy: 0.4985 - loss: nan - val_accuracy: 0.5062 - val_loss: nan\n",
            "Epoch 24/25\n",
            "\u001b[1m625/625\u001b[0m \u001b[32m━━━━━━━━━━━━━━━━━━━━\u001b[0m\u001b[37m\u001b[0m \u001b[1m8s\u001b[0m 13ms/step - accuracy: 0.4904 - loss: nan - val_accuracy: 0.5062 - val_loss: nan\n",
            "Epoch 25/25\n",
            "\u001b[1m625/625\u001b[0m \u001b[32m━━━━━━━━━━━━━━━━━━━━\u001b[0m\u001b[37m\u001b[0m \u001b[1m9s\u001b[0m 14ms/step - accuracy: 0.4978 - loss: nan - val_accuracy: 0.5062 - val_loss: nan\n"
          ]
        }
      ]
    },
    {
      "cell_type": "markdown",
      "source": [
        "**Evaluar el modelo**\n",
        "\n",
        "**model.evaluate:** Evalúa el modelo en los datos de prueba, devolviendo la pérdida y la precisión.\n",
        "\n",
        "**Resultados:** Estos valores muestran qué tan bien generaliza el modelo a datos no vistos.\n"
      ],
      "metadata": {
        "id": "eVWCdbf7JJba"
      }
    },
    {
      "cell_type": "code",
      "source": [
        "# Evaluar el modelo en los datos de prueba\n",
        "loss, accuracy = model.evaluate(X_test, y_test)\n",
        "print(f\"Pérdida en el conjunto de prueba: {loss}\")\n",
        "print(f\"Precisión en el conjunto de prueba: {accuracy}\")\n"
      ],
      "metadata": {
        "colab": {
          "base_uri": "https://localhost:8080/"
        },
        "id": "kcldPR6XFEp1",
        "outputId": "393c695e-b782-46a8-8e0a-85d2a08af422"
      },
      "execution_count": 10,
      "outputs": [
        {
          "output_type": "stream",
          "name": "stdout",
          "text": [
            "\u001b[1m782/782\u001b[0m \u001b[32m━━━━━━━━━━━━━━━━━━━━\u001b[0m\u001b[37m\u001b[0m \u001b[1m4s\u001b[0m 6ms/step - accuracy: 0.5073 - loss: nan\n",
            "Pérdida en el conjunto de prueba: nan\n",
            "Precisión en el conjunto de prueba: 0.5\n"
          ]
        }
      ]
    },
    {
      "cell_type": "markdown",
      "source": [
        "**Visualizar los resultados**\n",
        "\n",
        "**Gráfica de precisión:** Compara la precisión en entrenamiento y validación por época.\n",
        "\n",
        "**Gráfica de pérdida:** Muestra cómo la pérdida cambia en cada época.\n",
        "\n",
        "**Propósito:** Identificar sobreajuste o bajo rendimiento.\n"
      ],
      "metadata": {
        "id": "AEfr7NEZJ_zW"
      }
    },
    {
      "cell_type": "code",
      "source": [
        "# Graficar precisión y pérdida\n",
        "plt.figure(figsize=(12, 5))\n",
        "\n",
        "# Precisión\n",
        "plt.subplot(1, 2, 1)\n",
        "plt.plot(history.history['accuracy'], label='Entrenamiento')\n",
        "plt.plot(history.history['val_accuracy'], label='Validación')\n",
        "plt.title('Precisión')\n",
        "plt.xlabel('Época')\n",
        "plt.ylabel('Precisión')\n",
        "plt.legend()\n",
        "\n",
        "# Pérdida\n",
        "plt.subplot(1, 2, 2)\n",
        "plt.plot(history.history['loss'], label='Entrenamiento')\n",
        "plt.plot(history.history['val_loss'], label='Validación')\n",
        "plt.title('Pérdida')\n",
        "plt.xlabel('Época')\n",
        "plt.ylabel('Pérdida')\n",
        "plt.legend()\n",
        "\n",
        "plt.show()\n"
      ],
      "metadata": {
        "colab": {
          "base_uri": "https://localhost:8080/",
          "height": 489
        },
        "id": "bOy1h83dFGyB",
        "outputId": "4ea0a353-1c10-4d44-9902-63cf8076242b"
      },
      "execution_count": 13,
      "outputs": [
        {
          "output_type": "display_data",
          "data": {
            "text/plain": [
              "<Figure size 1200x500 with 2 Axes>"
            ],
            "image/png": "[encoded data removed]"
          },
          "metadata": {}
        }
      ]
    },
    {
      "cell_type": "markdown",
      "source": [
        "**Probar predicciones**\n",
        "\n",
        "**Decodificación:** Convierte las palabras codificadas en texto legible.\n",
        "\n",
        "**Predicción:** Genera un valor entre 0 y 1 para clasificar como negativa o positiva.\n"
      ],
      "metadata": {
        "id": "v9UQ9uzEAmDZ"
      }
    },
    {
      "cell_type": "code",
      "source": [
        "# Convertir una reseña en texto legible (opcional)\n",
        "word_index = imdb.get_word_index()\n",
        "reverse_word_index = {value: key for key, value in word_index.items()}\n",
        "\n",
        "def decode_review(encoded_review):\n",
        "    return ' '.join([reverse_word_index.get(i - 3, '?') for i in encoded_review])\n",
        "\n",
        "# Ejemplo: Decodificar una reseña y predecir\n",
        "sample_review = X_test[0]\n",
        "decoded_review = decode_review(X_test[0])\n",
        "print(f\"Reseña decodificada: {decoded_review}\")\n",
        "\n",
        "prediction = model.predict(sample_review.reshape(1, -1))\n",
        "print(f\"Predicción (positiva=1, negativa=0): {prediction[0][0]}\")\n"
      ],
      "metadata": {
        "colab": {
          "base_uri": "https://localhost:8080/"
        },
        "id": "CM2ccVfiFJ00",
        "outputId": "ca14e644-3957-4330-a15a-86580bea8cf9"
      },
      "execution_count": 12,
      "outputs": [
        {
          "output_type": "stream",
          "name": "stdout",
          "text": [
            "Reseña decodificada: ? please give this one a miss br br ? ? and the rest of the cast rendered terrible performances the show is flat flat flat br br i don't know how michael madison could have allowed this one on his plate he almost seemed to know this wasn't going to work out and his performance was quite ? so all you madison fans give this a miss ? ? ? ? ? ? ? ? ? ? ? ? ? ? ? ? ? ? ? ? ? ? ? ? ? ? ? ? ? ? ? ?\n",
            "\u001b[1m1/1\u001b[0m \u001b[32m━━━━━━━━━━━━━━━━━━━━\u001b[0m\u001b[37m\u001b[0m \u001b[1m0s\u001b[0m 17ms/step\n",
            "Predicción (positiva=1, negativa=0): nan\n"
          ]
        }
      ]
    }
  ]
}